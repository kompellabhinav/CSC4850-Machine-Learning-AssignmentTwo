{
  "nbformat": 4,
  "nbformat_minor": 0,
  "metadata": {
    "colab": {
      "provenance": [],
      "include_colab_link": true
    },
    "kernelspec": {
      "name": "python3",
      "display_name": "Python 3"
    },
    "language_info": {
      "name": "python"
    }
  },
  "cells": [
    {
      "cell_type": "markdown",
      "metadata": {
        "id": "view-in-github",
        "colab_type": "text"
      },
      "source": [
        "<a href=\"https://colab.research.google.com/github/kompellabhinav/CSC4850-Machine-Learning-AssignmentTwo/blob/main/Kompella_Abhinav_Assignment2.ipynb\" target=\"_parent\"><img src=\"https://colab.research.google.com/assets/colab-badge.svg\" alt=\"Open In Colab\"/></a>"
      ]
    },
    {
      "cell_type": "markdown",
      "source": [
        "# CSC 4850 / 6850 / DSCI 4850 - Assisgment 2 - (350/400 points)\n",
        "\n",
        "**Total points (350 undergraduate / 400 graduate)**\n",
        "\n",
        "**Student Name: Abhinav Kompella**\n",
        "\n",
        "**Graduate / Undergraduate (Undergraduate)**\n",
        "\n",
        "## Instructions:\n",
        "\n",
        "You are to make a copy of this notebook on your own Google Drive (if you don't have one, get one, it is free), and use the exact format provided. Any code needs to go in the code cells, and any 'text' answer/description needs to go in the proper text cell. We will not be looking for answers randomly placed so please read the instructions.\n",
        "\n",
        "You are to use only the libraries provided in the next code cell. Any additional library is NOT allowed and will cause you to lose all the points that use said library's functions/functionality. You can use any functions given in the class code examples, but be very very careful of lifting anything \n",
        "'as-is' from the internet as it will be considerered plagiarism. \n",
        "\n",
        "**IMPORTANT: Make sure you use 1234 for your randomseed/random state. Failure to do so will make your answers not comparable to the answer key and you will get a zero on the whole assignment.**\n",
        "\n",
        "## Submission format:\n",
        "\n",
        "The submission for Assignment two will have two components:\n",
        "\n",
        "1) You are to create a PDF from the PRINT out of this notebook with all cells executed sequentially. It is the student's responsibility to be able to do this and no excuses will be accepted, no legible PDF = zero grade. So practice and test before submission time. This PDF should be named LastName_FirstName-Assignment2.PDF\n",
        "\n",
        "2) The student should create a GitHub repository for this assignment and properly title the repository Class_CODE-ClassName-AssignmentTwo. This repository should have a readme file and the Google Colab notebook in it. Note that colab can save a copy directly to GitHub so make sure you test this. Downloading the notebook file and uploading it directly will result in 200 points deduction. The link to your GitHub repository should be included as text/message in the iCollege submission drop, failure to include this link will result in a 100 point penalty. \n",
        "\n",
        "## Extra Credit for all:\n",
        "\n",
        "Any student can get 50 extra credit points by doing two simple things (you need to do BOTH):\n",
        "\n",
        "1) Make nice and pretty plots (only using the provided packages!)\n",
        "\n",
        "2) Make your GitHub repo professional (this includes your own landing page as well). Examples: https://github.com/abhisheknaiidu/awesome-github-profile-readme\n",
        "\n",
        "\n",
        "Remember that you will need a portfolio for your job search, and a professional looking repo will certainly impress recruiters/interviewers. So this is more of a favor to yourself! (yes, I follow this myself: https://github.com/jmbanda)\n"
      ],
      "metadata": {
        "id": "Uc3L9tKWVV4g"
      }
    },
    {
      "cell_type": "code",
      "execution_count": 1,
      "metadata": {
        "id": "PjGD5VGFVS-s"
      },
      "outputs": [],
      "source": [
        "############## These are the only imports allowed to solve this homework, so make sure you do not add anything else down below\n",
        "\n",
        "%matplotlib inline\n",
        "\n",
        "import numpy as np\n",
        "import pandas as pd\n",
        "import sklearn \n",
        "import numpy as np\n",
        "import matplotlib.pyplot as plt\n",
        "import seaborn as sns; sns.set()\n"
      ]
    },
    {
      "cell_type": "markdown",
      "source": [
        "Using the Wine dataset from sklearn:"
      ],
      "metadata": {
        "id": "89_ilQegV-MS"
      }
    },
    {
      "cell_type": "code",
      "source": [
        "#get the wine dataset from sklearn and take a look at the description provided\n",
        "from sklearn import datasets\n",
        "wine = datasets.load_wine()\n",
        "\n",
        "wine"
      ],
      "metadata": {
        "id": "J_sakm7HV90A",
        "colab": {
          "base_uri": "https://localhost:8080/"
        },
        "outputId": "4d74c1f6-e4df-441d-f457-f1eec7f4d810"
      },
      "execution_count": 2,
      "outputs": [
        {
          "output_type": "execute_result",
          "data": {
            "text/plain": [
              "{'data': array([[1.423e+01, 1.710e+00, 2.430e+00, ..., 1.040e+00, 3.920e+00,\n",
              "         1.065e+03],\n",
              "        [1.320e+01, 1.780e+00, 2.140e+00, ..., 1.050e+00, 3.400e+00,\n",
              "         1.050e+03],\n",
              "        [1.316e+01, 2.360e+00, 2.670e+00, ..., 1.030e+00, 3.170e+00,\n",
              "         1.185e+03],\n",
              "        ...,\n",
              "        [1.327e+01, 4.280e+00, 2.260e+00, ..., 5.900e-01, 1.560e+00,\n",
              "         8.350e+02],\n",
              "        [1.317e+01, 2.590e+00, 2.370e+00, ..., 6.000e-01, 1.620e+00,\n",
              "         8.400e+02],\n",
              "        [1.413e+01, 4.100e+00, 2.740e+00, ..., 6.100e-01, 1.600e+00,\n",
              "         5.600e+02]]),\n",
              " 'target': array([0, 0, 0, 0, 0, 0, 0, 0, 0, 0, 0, 0, 0, 0, 0, 0, 0, 0, 0, 0, 0, 0,\n",
              "        0, 0, 0, 0, 0, 0, 0, 0, 0, 0, 0, 0, 0, 0, 0, 0, 0, 0, 0, 0, 0, 0,\n",
              "        0, 0, 0, 0, 0, 0, 0, 0, 0, 0, 0, 0, 0, 0, 0, 1, 1, 1, 1, 1, 1, 1,\n",
              "        1, 1, 1, 1, 1, 1, 1, 1, 1, 1, 1, 1, 1, 1, 1, 1, 1, 1, 1, 1, 1, 1,\n",
              "        1, 1, 1, 1, 1, 1, 1, 1, 1, 1, 1, 1, 1, 1, 1, 1, 1, 1, 1, 1, 1, 1,\n",
              "        1, 1, 1, 1, 1, 1, 1, 1, 1, 1, 1, 1, 1, 1, 1, 1, 1, 1, 1, 1, 2, 2,\n",
              "        2, 2, 2, 2, 2, 2, 2, 2, 2, 2, 2, 2, 2, 2, 2, 2, 2, 2, 2, 2, 2, 2,\n",
              "        2, 2, 2, 2, 2, 2, 2, 2, 2, 2, 2, 2, 2, 2, 2, 2, 2, 2, 2, 2, 2, 2,\n",
              "        2, 2]),\n",
              " 'frame': None,\n",
              " 'target_names': array(['class_0', 'class_1', 'class_2'], dtype='<U7'),\n",
              " 'DESCR': '.. _wine_dataset:\\n\\nWine recognition dataset\\n------------------------\\n\\n**Data Set Characteristics:**\\n\\n    :Number of Instances: 178 (50 in each of three classes)\\n    :Number of Attributes: 13 numeric, predictive attributes and the class\\n    :Attribute Information:\\n \\t\\t- Alcohol\\n \\t\\t- Malic acid\\n \\t\\t- Ash\\n\\t\\t- Alcalinity of ash  \\n \\t\\t- Magnesium\\n\\t\\t- Total phenols\\n \\t\\t- Flavanoids\\n \\t\\t- Nonflavanoid phenols\\n \\t\\t- Proanthocyanins\\n\\t\\t- Color intensity\\n \\t\\t- Hue\\n \\t\\t- OD280/OD315 of diluted wines\\n \\t\\t- Proline\\n\\n    - class:\\n            - class_0\\n            - class_1\\n            - class_2\\n\\t\\t\\n    :Summary Statistics:\\n    \\n    ============================= ==== ===== ======= =====\\n                                   Min   Max   Mean     SD\\n    ============================= ==== ===== ======= =====\\n    Alcohol:                      11.0  14.8    13.0   0.8\\n    Malic Acid:                   0.74  5.80    2.34  1.12\\n    Ash:                          1.36  3.23    2.36  0.27\\n    Alcalinity of Ash:            10.6  30.0    19.5   3.3\\n    Magnesium:                    70.0 162.0    99.7  14.3\\n    Total Phenols:                0.98  3.88    2.29  0.63\\n    Flavanoids:                   0.34  5.08    2.03  1.00\\n    Nonflavanoid Phenols:         0.13  0.66    0.36  0.12\\n    Proanthocyanins:              0.41  3.58    1.59  0.57\\n    Colour Intensity:              1.3  13.0     5.1   2.3\\n    Hue:                          0.48  1.71    0.96  0.23\\n    OD280/OD315 of diluted wines: 1.27  4.00    2.61  0.71\\n    Proline:                       278  1680     746   315\\n    ============================= ==== ===== ======= =====\\n\\n    :Missing Attribute Values: None\\n    :Class Distribution: class_0 (59), class_1 (71), class_2 (48)\\n    :Creator: R.A. Fisher\\n    :Donor: Michael Marshall (MARSHALL%PLU@io.arc.nasa.gov)\\n    :Date: July, 1988\\n\\nThis is a copy of UCI ML Wine recognition datasets.\\nhttps://archive.ics.uci.edu/ml/machine-learning-databases/wine/wine.data\\n\\nThe data is the results of a chemical analysis of wines grown in the same\\nregion in Italy by three different cultivators. There are thirteen different\\nmeasurements taken for different constituents found in the three types of\\nwine.\\n\\nOriginal Owners: \\n\\nForina, M. et al, PARVUS - \\nAn Extendible Package for Data Exploration, Classification and Correlation. \\nInstitute of Pharmaceutical and Food Analysis and Technologies,\\nVia Brigata Salerno, 16147 Genoa, Italy.\\n\\nCitation:\\n\\nLichman, M. (2013). UCI Machine Learning Repository\\n[https://archive.ics.uci.edu/ml]. Irvine, CA: University of California,\\nSchool of Information and Computer Science. \\n\\n.. topic:: References\\n\\n  (1) S. Aeberhard, D. Coomans and O. de Vel, \\n  Comparison of Classifiers in High Dimensional Settings, \\n  Tech. Rep. no. 92-02, (1992), Dept. of Computer Science and Dept. of  \\n  Mathematics and Statistics, James Cook University of North Queensland. \\n  (Also submitted to Technometrics). \\n\\n  The data was used with many others for comparing various \\n  classifiers. The classes are separable, though only RDA \\n  has achieved 100% correct classification. \\n  (RDA : 100%, QDA 99.4%, LDA 98.9%, 1NN 96.1% (z-transformed data)) \\n  (All results using the leave-one-out technique) \\n\\n  (2) S. Aeberhard, D. Coomans and O. de Vel, \\n  \"THE CLASSIFICATION PERFORMANCE OF RDA\" \\n  Tech. Rep. no. 92-01, (1992), Dept. of Computer Science and Dept. of \\n  Mathematics and Statistics, James Cook University of North Queensland. \\n  (Also submitted to Journal of Chemometrics).\\n',\n",
              " 'feature_names': ['alcohol',\n",
              "  'malic_acid',\n",
              "  'ash',\n",
              "  'alcalinity_of_ash',\n",
              "  'magnesium',\n",
              "  'total_phenols',\n",
              "  'flavanoids',\n",
              "  'nonflavanoid_phenols',\n",
              "  'proanthocyanins',\n",
              "  'color_intensity',\n",
              "  'hue',\n",
              "  'od280/od315_of_diluted_wines',\n",
              "  'proline']}"
            ]
          },
          "metadata": {},
          "execution_count": 2
        }
      ]
    },
    {
      "cell_type": "markdown",
      "source": [
        "# Question 1 (10 points)\n",
        "\n",
        "What can you say about the dataset (use code to descirbe it)? any particular things of interest? Find at least two things that you find interesting."
      ],
      "metadata": {
        "id": "0TLvYCXVbHN9"
      }
    },
    {
      "cell_type": "code",
      "source": [
        "##### Code block for Question 1\n",
        "\n",
        "df1 = pd.DataFrame(data=wine.data, columns=wine.feature_names)\n",
        "df1['target'] = wine.target\n",
        "\n",
        "df1"
      ],
      "metadata": {
        "id": "ZIxSrPxmbGYZ",
        "colab": {
          "base_uri": "https://localhost:8080/",
          "height": 488
        },
        "outputId": "3aaad5d9-428e-43c5-a622-859f3a95a0be"
      },
      "execution_count": 3,
      "outputs": [
        {
          "output_type": "execute_result",
          "data": {
            "text/plain": [
              "     alcohol  malic_acid   ash  alcalinity_of_ash  magnesium  total_phenols  \\\n",
              "0      14.23        1.71  2.43               15.6      127.0           2.80   \n",
              "1      13.20        1.78  2.14               11.2      100.0           2.65   \n",
              "2      13.16        2.36  2.67               18.6      101.0           2.80   \n",
              "3      14.37        1.95  2.50               16.8      113.0           3.85   \n",
              "4      13.24        2.59  2.87               21.0      118.0           2.80   \n",
              "..       ...         ...   ...                ...        ...            ...   \n",
              "173    13.71        5.65  2.45               20.5       95.0           1.68   \n",
              "174    13.40        3.91  2.48               23.0      102.0           1.80   \n",
              "175    13.27        4.28  2.26               20.0      120.0           1.59   \n",
              "176    13.17        2.59  2.37               20.0      120.0           1.65   \n",
              "177    14.13        4.10  2.74               24.5       96.0           2.05   \n",
              "\n",
              "     flavanoids  nonflavanoid_phenols  proanthocyanins  color_intensity   hue  \\\n",
              "0          3.06                  0.28             2.29             5.64  1.04   \n",
              "1          2.76                  0.26             1.28             4.38  1.05   \n",
              "2          3.24                  0.30             2.81             5.68  1.03   \n",
              "3          3.49                  0.24             2.18             7.80  0.86   \n",
              "4          2.69                  0.39             1.82             4.32  1.04   \n",
              "..          ...                   ...              ...              ...   ...   \n",
              "173        0.61                  0.52             1.06             7.70  0.64   \n",
              "174        0.75                  0.43             1.41             7.30  0.70   \n",
              "175        0.69                  0.43             1.35            10.20  0.59   \n",
              "176        0.68                  0.53             1.46             9.30  0.60   \n",
              "177        0.76                  0.56             1.35             9.20  0.61   \n",
              "\n",
              "     od280/od315_of_diluted_wines  proline  target  \n",
              "0                            3.92   1065.0       0  \n",
              "1                            3.40   1050.0       0  \n",
              "2                            3.17   1185.0       0  \n",
              "3                            3.45   1480.0       0  \n",
              "4                            2.93    735.0       0  \n",
              "..                            ...      ...     ...  \n",
              "173                          1.74    740.0       2  \n",
              "174                          1.56    750.0       2  \n",
              "175                          1.56    835.0       2  \n",
              "176                          1.62    840.0       2  \n",
              "177                          1.60    560.0       2  \n",
              "\n",
              "[178 rows x 14 columns]"
            ],
            "text/html": [
              "\n",
              "  <div id=\"df-a4cf0f83-957f-4e52-821a-9373392e3654\">\n",
              "    <div class=\"colab-df-container\">\n",
              "      <div>\n",
              "<style scoped>\n",
              "    .dataframe tbody tr th:only-of-type {\n",
              "        vertical-align: middle;\n",
              "    }\n",
              "\n",
              "    .dataframe tbody tr th {\n",
              "        vertical-align: top;\n",
              "    }\n",
              "\n",
              "    .dataframe thead th {\n",
              "        text-align: right;\n",
              "    }\n",
              "</style>\n",
              "<table border=\"1\" class=\"dataframe\">\n",
              "  <thead>\n",
              "    <tr style=\"text-align: right;\">\n",
              "      <th></th>\n",
              "      <th>alcohol</th>\n",
              "      <th>malic_acid</th>\n",
              "      <th>ash</th>\n",
              "      <th>alcalinity_of_ash</th>\n",
              "      <th>magnesium</th>\n",
              "      <th>total_phenols</th>\n",
              "      <th>flavanoids</th>\n",
              "      <th>nonflavanoid_phenols</th>\n",
              "      <th>proanthocyanins</th>\n",
              "      <th>color_intensity</th>\n",
              "      <th>hue</th>\n",
              "      <th>od280/od315_of_diluted_wines</th>\n",
              "      <th>proline</th>\n",
              "      <th>target</th>\n",
              "    </tr>\n",
              "  </thead>\n",
              "  <tbody>\n",
              "    <tr>\n",
              "      <th>0</th>\n",
              "      <td>14.23</td>\n",
              "      <td>1.71</td>\n",
              "      <td>2.43</td>\n",
              "      <td>15.6</td>\n",
              "      <td>127.0</td>\n",
              "      <td>2.80</td>\n",
              "      <td>3.06</td>\n",
              "      <td>0.28</td>\n",
              "      <td>2.29</td>\n",
              "      <td>5.64</td>\n",
              "      <td>1.04</td>\n",
              "      <td>3.92</td>\n",
              "      <td>1065.0</td>\n",
              "      <td>0</td>\n",
              "    </tr>\n",
              "    <tr>\n",
              "      <th>1</th>\n",
              "      <td>13.20</td>\n",
              "      <td>1.78</td>\n",
              "      <td>2.14</td>\n",
              "      <td>11.2</td>\n",
              "      <td>100.0</td>\n",
              "      <td>2.65</td>\n",
              "      <td>2.76</td>\n",
              "      <td>0.26</td>\n",
              "      <td>1.28</td>\n",
              "      <td>4.38</td>\n",
              "      <td>1.05</td>\n",
              "      <td>3.40</td>\n",
              "      <td>1050.0</td>\n",
              "      <td>0</td>\n",
              "    </tr>\n",
              "    <tr>\n",
              "      <th>2</th>\n",
              "      <td>13.16</td>\n",
              "      <td>2.36</td>\n",
              "      <td>2.67</td>\n",
              "      <td>18.6</td>\n",
              "      <td>101.0</td>\n",
              "      <td>2.80</td>\n",
              "      <td>3.24</td>\n",
              "      <td>0.30</td>\n",
              "      <td>2.81</td>\n",
              "      <td>5.68</td>\n",
              "      <td>1.03</td>\n",
              "      <td>3.17</td>\n",
              "      <td>1185.0</td>\n",
              "      <td>0</td>\n",
              "    </tr>\n",
              "    <tr>\n",
              "      <th>3</th>\n",
              "      <td>14.37</td>\n",
              "      <td>1.95</td>\n",
              "      <td>2.50</td>\n",
              "      <td>16.8</td>\n",
              "      <td>113.0</td>\n",
              "      <td>3.85</td>\n",
              "      <td>3.49</td>\n",
              "      <td>0.24</td>\n",
              "      <td>2.18</td>\n",
              "      <td>7.80</td>\n",
              "      <td>0.86</td>\n",
              "      <td>3.45</td>\n",
              "      <td>1480.0</td>\n",
              "      <td>0</td>\n",
              "    </tr>\n",
              "    <tr>\n",
              "      <th>4</th>\n",
              "      <td>13.24</td>\n",
              "      <td>2.59</td>\n",
              "      <td>2.87</td>\n",
              "      <td>21.0</td>\n",
              "      <td>118.0</td>\n",
              "      <td>2.80</td>\n",
              "      <td>2.69</td>\n",
              "      <td>0.39</td>\n",
              "      <td>1.82</td>\n",
              "      <td>4.32</td>\n",
              "      <td>1.04</td>\n",
              "      <td>2.93</td>\n",
              "      <td>735.0</td>\n",
              "      <td>0</td>\n",
              "    </tr>\n",
              "    <tr>\n",
              "      <th>...</th>\n",
              "      <td>...</td>\n",
              "      <td>...</td>\n",
              "      <td>...</td>\n",
              "      <td>...</td>\n",
              "      <td>...</td>\n",
              "      <td>...</td>\n",
              "      <td>...</td>\n",
              "      <td>...</td>\n",
              "      <td>...</td>\n",
              "      <td>...</td>\n",
              "      <td>...</td>\n",
              "      <td>...</td>\n",
              "      <td>...</td>\n",
              "      <td>...</td>\n",
              "    </tr>\n",
              "    <tr>\n",
              "      <th>173</th>\n",
              "      <td>13.71</td>\n",
              "      <td>5.65</td>\n",
              "      <td>2.45</td>\n",
              "      <td>20.5</td>\n",
              "      <td>95.0</td>\n",
              "      <td>1.68</td>\n",
              "      <td>0.61</td>\n",
              "      <td>0.52</td>\n",
              "      <td>1.06</td>\n",
              "      <td>7.70</td>\n",
              "      <td>0.64</td>\n",
              "      <td>1.74</td>\n",
              "      <td>740.0</td>\n",
              "      <td>2</td>\n",
              "    </tr>\n",
              "    <tr>\n",
              "      <th>174</th>\n",
              "      <td>13.40</td>\n",
              "      <td>3.91</td>\n",
              "      <td>2.48</td>\n",
              "      <td>23.0</td>\n",
              "      <td>102.0</td>\n",
              "      <td>1.80</td>\n",
              "      <td>0.75</td>\n",
              "      <td>0.43</td>\n",
              "      <td>1.41</td>\n",
              "      <td>7.30</td>\n",
              "      <td>0.70</td>\n",
              "      <td>1.56</td>\n",
              "      <td>750.0</td>\n",
              "      <td>2</td>\n",
              "    </tr>\n",
              "    <tr>\n",
              "      <th>175</th>\n",
              "      <td>13.27</td>\n",
              "      <td>4.28</td>\n",
              "      <td>2.26</td>\n",
              "      <td>20.0</td>\n",
              "      <td>120.0</td>\n",
              "      <td>1.59</td>\n",
              "      <td>0.69</td>\n",
              "      <td>0.43</td>\n",
              "      <td>1.35</td>\n",
              "      <td>10.20</td>\n",
              "      <td>0.59</td>\n",
              "      <td>1.56</td>\n",
              "      <td>835.0</td>\n",
              "      <td>2</td>\n",
              "    </tr>\n",
              "    <tr>\n",
              "      <th>176</th>\n",
              "      <td>13.17</td>\n",
              "      <td>2.59</td>\n",
              "      <td>2.37</td>\n",
              "      <td>20.0</td>\n",
              "      <td>120.0</td>\n",
              "      <td>1.65</td>\n",
              "      <td>0.68</td>\n",
              "      <td>0.53</td>\n",
              "      <td>1.46</td>\n",
              "      <td>9.30</td>\n",
              "      <td>0.60</td>\n",
              "      <td>1.62</td>\n",
              "      <td>840.0</td>\n",
              "      <td>2</td>\n",
              "    </tr>\n",
              "    <tr>\n",
              "      <th>177</th>\n",
              "      <td>14.13</td>\n",
              "      <td>4.10</td>\n",
              "      <td>2.74</td>\n",
              "      <td>24.5</td>\n",
              "      <td>96.0</td>\n",
              "      <td>2.05</td>\n",
              "      <td>0.76</td>\n",
              "      <td>0.56</td>\n",
              "      <td>1.35</td>\n",
              "      <td>9.20</td>\n",
              "      <td>0.61</td>\n",
              "      <td>1.60</td>\n",
              "      <td>560.0</td>\n",
              "      <td>2</td>\n",
              "    </tr>\n",
              "  </tbody>\n",
              "</table>\n",
              "<p>178 rows × 14 columns</p>\n",
              "</div>\n",
              "      <button class=\"colab-df-convert\" onclick=\"convertToInteractive('df-a4cf0f83-957f-4e52-821a-9373392e3654')\"\n",
              "              title=\"Convert this dataframe to an interactive table.\"\n",
              "              style=\"display:none;\">\n",
              "        \n",
              "  <svg xmlns=\"http://www.w3.org/2000/svg\" height=\"24px\"viewBox=\"0 0 24 24\"\n",
              "       width=\"24px\">\n",
              "    <path d=\"M0 0h24v24H0V0z\" fill=\"none\"/>\n",
              "    <path d=\"M18.56 5.44l.94 2.06.94-2.06 2.06-.94-2.06-.94-.94-2.06-.94 2.06-2.06.94zm-11 1L8.5 8.5l.94-2.06 2.06-.94-2.06-.94L8.5 2.5l-.94 2.06-2.06.94zm10 10l.94 2.06.94-2.06 2.06-.94-2.06-.94-.94-2.06-.94 2.06-2.06.94z\"/><path d=\"M17.41 7.96l-1.37-1.37c-.4-.4-.92-.59-1.43-.59-.52 0-1.04.2-1.43.59L10.3 9.45l-7.72 7.72c-.78.78-.78 2.05 0 2.83L4 21.41c.39.39.9.59 1.41.59.51 0 1.02-.2 1.41-.59l7.78-7.78 2.81-2.81c.8-.78.8-2.07 0-2.86zM5.41 20L4 18.59l7.72-7.72 1.47 1.35L5.41 20z\"/>\n",
              "  </svg>\n",
              "      </button>\n",
              "      \n",
              "  <style>\n",
              "    .colab-df-container {\n",
              "      display:flex;\n",
              "      flex-wrap:wrap;\n",
              "      gap: 12px;\n",
              "    }\n",
              "\n",
              "    .colab-df-convert {\n",
              "      background-color: #E8F0FE;\n",
              "      border: none;\n",
              "      border-radius: 50%;\n",
              "      cursor: pointer;\n",
              "      display: none;\n",
              "      fill: #1967D2;\n",
              "      height: 32px;\n",
              "      padding: 0 0 0 0;\n",
              "      width: 32px;\n",
              "    }\n",
              "\n",
              "    .colab-df-convert:hover {\n",
              "      background-color: #E2EBFA;\n",
              "      box-shadow: 0px 1px 2px rgba(60, 64, 67, 0.3), 0px 1px 3px 1px rgba(60, 64, 67, 0.15);\n",
              "      fill: #174EA6;\n",
              "    }\n",
              "\n",
              "    [theme=dark] .colab-df-convert {\n",
              "      background-color: #3B4455;\n",
              "      fill: #D2E3FC;\n",
              "    }\n",
              "\n",
              "    [theme=dark] .colab-df-convert:hover {\n",
              "      background-color: #434B5C;\n",
              "      box-shadow: 0px 1px 3px 1px rgba(0, 0, 0, 0.15);\n",
              "      filter: drop-shadow(0px 1px 2px rgba(0, 0, 0, 0.3));\n",
              "      fill: #FFFFFF;\n",
              "    }\n",
              "  </style>\n",
              "\n",
              "      <script>\n",
              "        const buttonEl =\n",
              "          document.querySelector('#df-a4cf0f83-957f-4e52-821a-9373392e3654 button.colab-df-convert');\n",
              "        buttonEl.style.display =\n",
              "          google.colab.kernel.accessAllowed ? 'block' : 'none';\n",
              "\n",
              "        async function convertToInteractive(key) {\n",
              "          const element = document.querySelector('#df-a4cf0f83-957f-4e52-821a-9373392e3654');\n",
              "          const dataTable =\n",
              "            await google.colab.kernel.invokeFunction('convertToInteractive',\n",
              "                                                     [key], {});\n",
              "          if (!dataTable) return;\n",
              "\n",
              "          const docLinkHtml = 'Like what you see? Visit the ' +\n",
              "            '<a target=\"_blank\" href=https://colab.research.google.com/notebooks/data_table.ipynb>data table notebook</a>'\n",
              "            + ' to learn more about interactive tables.';\n",
              "          element.innerHTML = '';\n",
              "          dataTable['output_type'] = 'display_data';\n",
              "          await google.colab.output.renderOutput(dataTable, element);\n",
              "          const docLink = document.createElement('div');\n",
              "          docLink.innerHTML = docLinkHtml;\n",
              "          element.appendChild(docLink);\n",
              "        }\n",
              "      </script>\n",
              "    </div>\n",
              "  </div>\n",
              "  "
            ]
          },
          "metadata": {},
          "execution_count": 3
        }
      ]
    },
    {
      "cell_type": "markdown",
      "source": [
        "1. This data set has only 178 rows and 13 features. Thereofore, this ia a small dataset and we would have low complexity (high bias).\n",
        "2. Most of these are important features to have know how good a wine is but there should be features that are not needed as well.\n"
      ],
      "metadata": {
        "id": "Od1B4oGdbaSC"
      }
    },
    {
      "cell_type": "markdown",
      "source": [
        "# Question 2 (10 points)\n",
        "\n",
        "Remove class_2, so it becomes a binary problem now. Split the dataset into a testing and a training set using 65% of the data for training and the rest for testing. Use the built-in sklearn functionality for this, any other way will not be graded."
      ],
      "metadata": {
        "id": "Hl5dZFu7lDg5"
      }
    },
    {
      "cell_type": "code",
      "source": [
        "##### Code block for Question 2\n",
        "from sklearn.model_selection import train_test_split\n",
        "\n",
        "#This expression removes the rows with 2 as the target value.\n",
        "df1 = df1[df1.target != 2]\n",
        "df1\n",
        "\n",
        "X_perc = df1[df1.columns[:-1]]\n",
        "y_perc = df1[df1.columns[-1]]\n",
        "X_train_perc, X_test_perc, y_train_perc, y_test_perc = train_test_split(X_perc, y_perc, test_size=0.35, random_state = 1234)\n",
        "\n",
        "df1"
      ],
      "metadata": {
        "id": "QDAUtNuAlUyI",
        "colab": {
          "base_uri": "https://localhost:8080/",
          "height": 488
        },
        "outputId": "20b1797a-0824-463a-d7b1-7132bae33e18"
      },
      "execution_count": 4,
      "outputs": [
        {
          "output_type": "execute_result",
          "data": {
            "text/plain": [
              "     alcohol  malic_acid   ash  alcalinity_of_ash  magnesium  total_phenols  \\\n",
              "0      14.23        1.71  2.43               15.6      127.0           2.80   \n",
              "1      13.20        1.78  2.14               11.2      100.0           2.65   \n",
              "2      13.16        2.36  2.67               18.6      101.0           2.80   \n",
              "3      14.37        1.95  2.50               16.8      113.0           3.85   \n",
              "4      13.24        2.59  2.87               21.0      118.0           2.80   \n",
              "..       ...         ...   ...                ...        ...            ...   \n",
              "125    12.07        2.16  2.17               21.0       85.0           2.60   \n",
              "126    12.43        1.53  2.29               21.5       86.0           2.74   \n",
              "127    11.79        2.13  2.78               28.5       92.0           2.13   \n",
              "128    12.37        1.63  2.30               24.5       88.0           2.22   \n",
              "129    12.04        4.30  2.38               22.0       80.0           2.10   \n",
              "\n",
              "     flavanoids  nonflavanoid_phenols  proanthocyanins  color_intensity   hue  \\\n",
              "0          3.06                  0.28             2.29             5.64  1.04   \n",
              "1          2.76                  0.26             1.28             4.38  1.05   \n",
              "2          3.24                  0.30             2.81             5.68  1.03   \n",
              "3          3.49                  0.24             2.18             7.80  0.86   \n",
              "4          2.69                  0.39             1.82             4.32  1.04   \n",
              "..          ...                   ...              ...              ...   ...   \n",
              "125        2.65                  0.37             1.35             2.76  0.86   \n",
              "126        3.15                  0.39             1.77             3.94  0.69   \n",
              "127        2.24                  0.58             1.76             3.00  0.97   \n",
              "128        2.45                  0.40             1.90             2.12  0.89   \n",
              "129        1.75                  0.42             1.35             2.60  0.79   \n",
              "\n",
              "     od280/od315_of_diluted_wines  proline  target  \n",
              "0                            3.92   1065.0       0  \n",
              "1                            3.40   1050.0       0  \n",
              "2                            3.17   1185.0       0  \n",
              "3                            3.45   1480.0       0  \n",
              "4                            2.93    735.0       0  \n",
              "..                            ...      ...     ...  \n",
              "125                          3.28    378.0       1  \n",
              "126                          2.84    352.0       1  \n",
              "127                          2.44    466.0       1  \n",
              "128                          2.78    342.0       1  \n",
              "129                          2.57    580.0       1  \n",
              "\n",
              "[130 rows x 14 columns]"
            ],
            "text/html": [
              "\n",
              "  <div id=\"df-7d220a1e-ebea-465d-ae56-c2e1c4440ecc\">\n",
              "    <div class=\"colab-df-container\">\n",
              "      <div>\n",
              "<style scoped>\n",
              "    .dataframe tbody tr th:only-of-type {\n",
              "        vertical-align: middle;\n",
              "    }\n",
              "\n",
              "    .dataframe tbody tr th {\n",
              "        vertical-align: top;\n",
              "    }\n",
              "\n",
              "    .dataframe thead th {\n",
              "        text-align: right;\n",
              "    }\n",
              "</style>\n",
              "<table border=\"1\" class=\"dataframe\">\n",
              "  <thead>\n",
              "    <tr style=\"text-align: right;\">\n",
              "      <th></th>\n",
              "      <th>alcohol</th>\n",
              "      <th>malic_acid</th>\n",
              "      <th>ash</th>\n",
              "      <th>alcalinity_of_ash</th>\n",
              "      <th>magnesium</th>\n",
              "      <th>total_phenols</th>\n",
              "      <th>flavanoids</th>\n",
              "      <th>nonflavanoid_phenols</th>\n",
              "      <th>proanthocyanins</th>\n",
              "      <th>color_intensity</th>\n",
              "      <th>hue</th>\n",
              "      <th>od280/od315_of_diluted_wines</th>\n",
              "      <th>proline</th>\n",
              "      <th>target</th>\n",
              "    </tr>\n",
              "  </thead>\n",
              "  <tbody>\n",
              "    <tr>\n",
              "      <th>0</th>\n",
              "      <td>14.23</td>\n",
              "      <td>1.71</td>\n",
              "      <td>2.43</td>\n",
              "      <td>15.6</td>\n",
              "      <td>127.0</td>\n",
              "      <td>2.80</td>\n",
              "      <td>3.06</td>\n",
              "      <td>0.28</td>\n",
              "      <td>2.29</td>\n",
              "      <td>5.64</td>\n",
              "      <td>1.04</td>\n",
              "      <td>3.92</td>\n",
              "      <td>1065.0</td>\n",
              "      <td>0</td>\n",
              "    </tr>\n",
              "    <tr>\n",
              "      <th>1</th>\n",
              "      <td>13.20</td>\n",
              "      <td>1.78</td>\n",
              "      <td>2.14</td>\n",
              "      <td>11.2</td>\n",
              "      <td>100.0</td>\n",
              "      <td>2.65</td>\n",
              "      <td>2.76</td>\n",
              "      <td>0.26</td>\n",
              "      <td>1.28</td>\n",
              "      <td>4.38</td>\n",
              "      <td>1.05</td>\n",
              "      <td>3.40</td>\n",
              "      <td>1050.0</td>\n",
              "      <td>0</td>\n",
              "    </tr>\n",
              "    <tr>\n",
              "      <th>2</th>\n",
              "      <td>13.16</td>\n",
              "      <td>2.36</td>\n",
              "      <td>2.67</td>\n",
              "      <td>18.6</td>\n",
              "      <td>101.0</td>\n",
              "      <td>2.80</td>\n",
              "      <td>3.24</td>\n",
              "      <td>0.30</td>\n",
              "      <td>2.81</td>\n",
              "      <td>5.68</td>\n",
              "      <td>1.03</td>\n",
              "      <td>3.17</td>\n",
              "      <td>1185.0</td>\n",
              "      <td>0</td>\n",
              "    </tr>\n",
              "    <tr>\n",
              "      <th>3</th>\n",
              "      <td>14.37</td>\n",
              "      <td>1.95</td>\n",
              "      <td>2.50</td>\n",
              "      <td>16.8</td>\n",
              "      <td>113.0</td>\n",
              "      <td>3.85</td>\n",
              "      <td>3.49</td>\n",
              "      <td>0.24</td>\n",
              "      <td>2.18</td>\n",
              "      <td>7.80</td>\n",
              "      <td>0.86</td>\n",
              "      <td>3.45</td>\n",
              "      <td>1480.0</td>\n",
              "      <td>0</td>\n",
              "    </tr>\n",
              "    <tr>\n",
              "      <th>4</th>\n",
              "      <td>13.24</td>\n",
              "      <td>2.59</td>\n",
              "      <td>2.87</td>\n",
              "      <td>21.0</td>\n",
              "      <td>118.0</td>\n",
              "      <td>2.80</td>\n",
              "      <td>2.69</td>\n",
              "      <td>0.39</td>\n",
              "      <td>1.82</td>\n",
              "      <td>4.32</td>\n",
              "      <td>1.04</td>\n",
              "      <td>2.93</td>\n",
              "      <td>735.0</td>\n",
              "      <td>0</td>\n",
              "    </tr>\n",
              "    <tr>\n",
              "      <th>...</th>\n",
              "      <td>...</td>\n",
              "      <td>...</td>\n",
              "      <td>...</td>\n",
              "      <td>...</td>\n",
              "      <td>...</td>\n",
              "      <td>...</td>\n",
              "      <td>...</td>\n",
              "      <td>...</td>\n",
              "      <td>...</td>\n",
              "      <td>...</td>\n",
              "      <td>...</td>\n",
              "      <td>...</td>\n",
              "      <td>...</td>\n",
              "      <td>...</td>\n",
              "    </tr>\n",
              "    <tr>\n",
              "      <th>125</th>\n",
              "      <td>12.07</td>\n",
              "      <td>2.16</td>\n",
              "      <td>2.17</td>\n",
              "      <td>21.0</td>\n",
              "      <td>85.0</td>\n",
              "      <td>2.60</td>\n",
              "      <td>2.65</td>\n",
              "      <td>0.37</td>\n",
              "      <td>1.35</td>\n",
              "      <td>2.76</td>\n",
              "      <td>0.86</td>\n",
              "      <td>3.28</td>\n",
              "      <td>378.0</td>\n",
              "      <td>1</td>\n",
              "    </tr>\n",
              "    <tr>\n",
              "      <th>126</th>\n",
              "      <td>12.43</td>\n",
              "      <td>1.53</td>\n",
              "      <td>2.29</td>\n",
              "      <td>21.5</td>\n",
              "      <td>86.0</td>\n",
              "      <td>2.74</td>\n",
              "      <td>3.15</td>\n",
              "      <td>0.39</td>\n",
              "      <td>1.77</td>\n",
              "      <td>3.94</td>\n",
              "      <td>0.69</td>\n",
              "      <td>2.84</td>\n",
              "      <td>352.0</td>\n",
              "      <td>1</td>\n",
              "    </tr>\n",
              "    <tr>\n",
              "      <th>127</th>\n",
              "      <td>11.79</td>\n",
              "      <td>2.13</td>\n",
              "      <td>2.78</td>\n",
              "      <td>28.5</td>\n",
              "      <td>92.0</td>\n",
              "      <td>2.13</td>\n",
              "      <td>2.24</td>\n",
              "      <td>0.58</td>\n",
              "      <td>1.76</td>\n",
              "      <td>3.00</td>\n",
              "      <td>0.97</td>\n",
              "      <td>2.44</td>\n",
              "      <td>466.0</td>\n",
              "      <td>1</td>\n",
              "    </tr>\n",
              "    <tr>\n",
              "      <th>128</th>\n",
              "      <td>12.37</td>\n",
              "      <td>1.63</td>\n",
              "      <td>2.30</td>\n",
              "      <td>24.5</td>\n",
              "      <td>88.0</td>\n",
              "      <td>2.22</td>\n",
              "      <td>2.45</td>\n",
              "      <td>0.40</td>\n",
              "      <td>1.90</td>\n",
              "      <td>2.12</td>\n",
              "      <td>0.89</td>\n",
              "      <td>2.78</td>\n",
              "      <td>342.0</td>\n",
              "      <td>1</td>\n",
              "    </tr>\n",
              "    <tr>\n",
              "      <th>129</th>\n",
              "      <td>12.04</td>\n",
              "      <td>4.30</td>\n",
              "      <td>2.38</td>\n",
              "      <td>22.0</td>\n",
              "      <td>80.0</td>\n",
              "      <td>2.10</td>\n",
              "      <td>1.75</td>\n",
              "      <td>0.42</td>\n",
              "      <td>1.35</td>\n",
              "      <td>2.60</td>\n",
              "      <td>0.79</td>\n",
              "      <td>2.57</td>\n",
              "      <td>580.0</td>\n",
              "      <td>1</td>\n",
              "    </tr>\n",
              "  </tbody>\n",
              "</table>\n",
              "<p>130 rows × 14 columns</p>\n",
              "</div>\n",
              "      <button class=\"colab-df-convert\" onclick=\"convertToInteractive('df-7d220a1e-ebea-465d-ae56-c2e1c4440ecc')\"\n",
              "              title=\"Convert this dataframe to an interactive table.\"\n",
              "              style=\"display:none;\">\n",
              "        \n",
              "  <svg xmlns=\"http://www.w3.org/2000/svg\" height=\"24px\"viewBox=\"0 0 24 24\"\n",
              "       width=\"24px\">\n",
              "    <path d=\"M0 0h24v24H0V0z\" fill=\"none\"/>\n",
              "    <path d=\"M18.56 5.44l.94 2.06.94-2.06 2.06-.94-2.06-.94-.94-2.06-.94 2.06-2.06.94zm-11 1L8.5 8.5l.94-2.06 2.06-.94-2.06-.94L8.5 2.5l-.94 2.06-2.06.94zm10 10l.94 2.06.94-2.06 2.06-.94-2.06-.94-.94-2.06-.94 2.06-2.06.94z\"/><path d=\"M17.41 7.96l-1.37-1.37c-.4-.4-.92-.59-1.43-.59-.52 0-1.04.2-1.43.59L10.3 9.45l-7.72 7.72c-.78.78-.78 2.05 0 2.83L4 21.41c.39.39.9.59 1.41.59.51 0 1.02-.2 1.41-.59l7.78-7.78 2.81-2.81c.8-.78.8-2.07 0-2.86zM5.41 20L4 18.59l7.72-7.72 1.47 1.35L5.41 20z\"/>\n",
              "  </svg>\n",
              "      </button>\n",
              "      \n",
              "  <style>\n",
              "    .colab-df-container {\n",
              "      display:flex;\n",
              "      flex-wrap:wrap;\n",
              "      gap: 12px;\n",
              "    }\n",
              "\n",
              "    .colab-df-convert {\n",
              "      background-color: #E8F0FE;\n",
              "      border: none;\n",
              "      border-radius: 50%;\n",
              "      cursor: pointer;\n",
              "      display: none;\n",
              "      fill: #1967D2;\n",
              "      height: 32px;\n",
              "      padding: 0 0 0 0;\n",
              "      width: 32px;\n",
              "    }\n",
              "\n",
              "    .colab-df-convert:hover {\n",
              "      background-color: #E2EBFA;\n",
              "      box-shadow: 0px 1px 2px rgba(60, 64, 67, 0.3), 0px 1px 3px 1px rgba(60, 64, 67, 0.15);\n",
              "      fill: #174EA6;\n",
              "    }\n",
              "\n",
              "    [theme=dark] .colab-df-convert {\n",
              "      background-color: #3B4455;\n",
              "      fill: #D2E3FC;\n",
              "    }\n",
              "\n",
              "    [theme=dark] .colab-df-convert:hover {\n",
              "      background-color: #434B5C;\n",
              "      box-shadow: 0px 1px 3px 1px rgba(0, 0, 0, 0.15);\n",
              "      filter: drop-shadow(0px 1px 2px rgba(0, 0, 0, 0.3));\n",
              "      fill: #FFFFFF;\n",
              "    }\n",
              "  </style>\n",
              "\n",
              "      <script>\n",
              "        const buttonEl =\n",
              "          document.querySelector('#df-7d220a1e-ebea-465d-ae56-c2e1c4440ecc button.colab-df-convert');\n",
              "        buttonEl.style.display =\n",
              "          google.colab.kernel.accessAllowed ? 'block' : 'none';\n",
              "\n",
              "        async function convertToInteractive(key) {\n",
              "          const element = document.querySelector('#df-7d220a1e-ebea-465d-ae56-c2e1c4440ecc');\n",
              "          const dataTable =\n",
              "            await google.colab.kernel.invokeFunction('convertToInteractive',\n",
              "                                                     [key], {});\n",
              "          if (!dataTable) return;\n",
              "\n",
              "          const docLinkHtml = 'Like what you see? Visit the ' +\n",
              "            '<a target=\"_blank\" href=https://colab.research.google.com/notebooks/data_table.ipynb>data table notebook</a>'\n",
              "            + ' to learn more about interactive tables.';\n",
              "          element.innerHTML = '';\n",
              "          dataTable['output_type'] = 'display_data';\n",
              "          await google.colab.output.renderOutput(dataTable, element);\n",
              "          const docLink = document.createElement('div');\n",
              "          docLink.innerHTML = docLinkHtml;\n",
              "          element.appendChild(docLink);\n",
              "        }\n",
              "      </script>\n",
              "    </div>\n",
              "  </div>\n",
              "  "
            ]
          },
          "metadata": {},
          "execution_count": 4
        }
      ]
    },
    {
      "cell_type": "markdown",
      "source": [
        "# Question 3 (30 points)\n",
        "\n",
        "Use the perceptron algorithm (with default settings and the correct seed) to build a model on the training set and report the model's accuracy."
      ],
      "metadata": {
        "id": "V6grDh8FlVtS"
      }
    },
    {
      "cell_type": "code",
      "source": [
        "##### Code block for Question 3\n",
        "from sklearn.linear_model import Perceptron\n",
        "\n",
        "m_perceptron = Perceptron(random_state=1234)\n",
        "\n",
        "# train the perceptron object (m_perceptron)\n",
        "m_perceptron.fit(X_train_perc, y_train_perc)\n",
        "\n",
        "#Preceptron Accuracy\n",
        "perc_accuracy = m_perceptron.score(X_test_perc, y_test_perc)\n",
        "\n",
        "print(\"The accuracy for this perceptron model is = \" ,perc_accuracy)"
      ],
      "metadata": {
        "id": "OAmTADedkDN0",
        "colab": {
          "base_uri": "https://localhost:8080/"
        },
        "outputId": "7333f623-24be-43e0-e257-dd60f1b77e72"
      },
      "execution_count": 5,
      "outputs": [
        {
          "output_type": "stream",
          "name": "stdout",
          "text": [
            "The accuracy for this perceptron model is =  0.6739130434782609\n"
          ]
        }
      ]
    },
    {
      "cell_type": "markdown",
      "source": [
        "# Question 4 (20 points)\n",
        "\n",
        "Show the classification report for the built model. In the text cell, following the code block for question 4, descibe what findings can be infered from the classification report. Mention at least 3 observations."
      ],
      "metadata": {
        "id": "UDBERCfzkTIK"
      }
    },
    {
      "cell_type": "code",
      "source": [
        "##### Code block for Question 4\n",
        "from sklearn import metrics\n",
        "\n",
        "y_pred_perc = m_perceptron.predict(X_test_perc)\n",
        "\n",
        "perc_precision = metrics.precision_score(y_test_perc, y_pred_perc)\n",
        "\n",
        "perc_recall = metrics.recall_score(y_test_perc, y_pred_perc)\n",
        "\n",
        "print(metrics.classification_report(y_test_perc, y_pred_perc))"
      ],
      "metadata": {
        "id": "OlQED2C0kSQ-",
        "colab": {
          "base_uri": "https://localhost:8080/"
        },
        "outputId": "b8fe85c6-8d5a-4739-85fc-e6dc70d68d53"
      },
      "execution_count": 6,
      "outputs": [
        {
          "output_type": "stream",
          "name": "stdout",
          "text": [
            "              precision    recall  f1-score   support\n",
            "\n",
            "           0       1.00      0.21      0.35        19\n",
            "           1       0.64      1.00      0.78        27\n",
            "\n",
            "    accuracy                           0.67        46\n",
            "   macro avg       0.82      0.61      0.57        46\n",
            "weighted avg       0.79      0.67      0.60        46\n",
            "\n"
          ]
        }
      ]
    },
    {
      "cell_type": "markdown",
      "source": [
        "1. Out of all the wines the model predicted to be in class 1, 64% of the time it was right.\n",
        "2. Out of all the wines that were in class 1, model predicted this outcome 100% of the time.\n",
        "3. This model suits well for class 1 but it does not for class 2 because of the low f1-score for class 0."
      ],
      "metadata": {
        "id": "axlGZ10EkumL"
      }
    },
    {
      "cell_type": "markdown",
      "source": [
        "# Question 5 (30 points)\n",
        "\n",
        "Use the trained model to make predictions on the test set. Output AND plot the confusion matrix from the model's predictions. \n",
        "\n",
        "In the second code cell, plot side by side: On the left side, the test set and its labels (using features Alcohol as the X axis and Alcalinity of Ash as the Y axis) with each point colored depending its class label. On the right side, the actual predictions (use the same Alcohol as the X axis and Alcalinity of Ash as the Y axis) with each point colored depending on its class label."
      ],
      "metadata": {
        "id": "D5FbmbFolUE-"
      }
    },
    {
      "cell_type": "code",
      "source": [
        "##### Code block for Question 5 - part 1\n",
        "\n",
        "cnf_matrix_perc = metrics.confusion_matrix(y_test_perc, y_pred_perc)\n",
        "print(cnf_matrix_perc)"
      ],
      "metadata": {
        "id": "7-wRvWY7mvJ4",
        "colab": {
          "base_uri": "https://localhost:8080/"
        },
        "outputId": "aff721e2-dc2a-4af9-c78b-99afa7d02e7d"
      },
      "execution_count": 7,
      "outputs": [
        {
          "output_type": "stream",
          "name": "stdout",
          "text": [
            "[[ 4 15]\n",
            " [ 0 27]]\n"
          ]
        }
      ]
    },
    {
      "cell_type": "code",
      "source": [
        "##### Code block for Question 5 - part 2\n",
        "# print the decision boundry\n",
        "# y = theta0 + theta1 * x1 + theta2 * x2 . . .\n",
        "# y = bias + coefficients[0][0] * length + coefficients[0][1] * mass\n",
        "# for plotting the decision boundry equally divide the x axis of the plot\n",
        "\n",
        "# limit the plot area on x and y axises\n",
        "# plot the dataset\n",
        "fig, ax = plt.subplots(1, 2, figsize=(10,5))\n",
        "fig.tight_layout()\n",
        "fig.suptitle('Perceptron', fontsize=20, y=1.1)\n",
        "\n",
        "scatter1 = ax[0].scatter(X_test_perc['alcohol'], X_test_perc['alcalinity_of_ash'], c=y_test_perc, cmap='rainbow')\n",
        "ax[0].set_title('Test Set', fontsize=16)\n",
        "ax[0].set_xlabel('Alcohol')\n",
        "ax[0].set_ylabel('Alcalinity of Ash')\n",
        "ax[0].scatter([], [], c=['purple'], label='class_0')\n",
        "ax[0].scatter([], [], c=['red'], label='class_1')\n",
        "ax[0].legend()\n",
        "\n",
        "\n",
        "scatter2 = ax[1].scatter(X_test_perc['alcohol'], X_test_perc['alcalinity_of_ash'], c=y_pred_perc, cmap='rainbow')\n",
        "ax[1].set_title('Predictions', fontsize=16)\n",
        "ax[1].set_xlabel('Alcohol')\n",
        "ax[1].set_ylabel('Alcalinity of Ash')\n",
        "ax[1].scatter([], [], c=['purple'], label='class_0')\n",
        "ax[1].scatter([], [], c=['red'], label='class_1')\n",
        "ax[1].legend()\n"
      ],
      "metadata": {
        "id": "y-pa14x0myPD",
        "colab": {
          "base_uri": "https://localhost:8080/",
          "height": 449
        },
        "outputId": "aa6df247-1a86-4415-bbae-1c8302915682"
      },
      "execution_count": 8,
      "outputs": [
        {
          "output_type": "execute_result",
          "data": {
            "text/plain": [
              "<matplotlib.legend.Legend at 0x7ff4ba308fd0>"
            ]
          },
          "metadata": {},
          "execution_count": 8
        },
        {
          "output_type": "display_data",
          "data": {
            "text/plain": [
              "<Figure size 720x360 with 2 Axes>"
            ],
            "image/png": "[encoded data removed]"
          },
          "metadata": {}
        }
      ]
    },
    {
      "cell_type": "markdown",
      "source": [
        "# Question 6 (10 points) \n",
        "\n",
        "a) Do the plot right plot on Question 5 - part 2 match the confusion matrix of part 1?\n",
        "\n",
        "b) Any interesting observations from the predictions and the model performance? (write at least 2)"
      ],
      "metadata": {
        "id": "d0uKcXIWm2gZ"
      }
    },
    {
      "cell_type": "markdown",
      "source": [
        "The confusion matrix does match the plot on the right side."
      ],
      "metadata": {
        "id": "fUv67lIDnQVt"
      }
    },
    {
      "cell_type": "markdown",
      "source": [
        "We can clearly see how well the confusion matrix and the plot matches.\n",
        "1. If we look at the number of purple points that were predicted right it is 4,\n",
        "which is exactly equal to the value of TP. There were 19 purple points at first that is on the left side out of which only 4 were predicted as TP. Remaining 15 are FP which is also on the confusion matrix.\n",
        "2. If we look at the red points which are of class_1, then we can see that all the red points are correctly predicted therefore FN is 0."
      ],
      "metadata": {
        "id": "vekeBSBBnS8d"
      }
    },
    {
      "cell_type": "markdown",
      "source": [
        "# Question 7 (10 points)\n",
        "\n",
        "Reload the Wine dataset and split the dataset into a testing and a training set using 65% of the data for training and the rest for testing. Use the built-in sklearn functionality for this, any other way will not be graded."
      ],
      "metadata": {
        "id": "5FAvUA_LptZA"
      }
    },
    {
      "cell_type": "code",
      "source": [
        "##### Code block for Question 7\n",
        "wine = datasets.load_wine()\n",
        "\n",
        "#Converting dataset into pandas dataFrame\n",
        "df2 = pd.DataFrame(data=wine.data, columns=wine.feature_names)\n",
        "df2['target'] = wine.target\n",
        "\n",
        "#Splitting the data into training and testing set\n",
        "X_dt = df2[df2.columns[:-1]]\n",
        "y_dt = df2[df2.columns[-1]]\n",
        "X_train_dt, X_test_dt, y_train_dt, y_test_dt = train_test_split(X_dt, y_dt, test_size=0.35, random_state = 1234)"
      ],
      "metadata": {
        "id": "OVEa6yRHpsVp"
      },
      "execution_count": 9,
      "outputs": []
    },
    {
      "cell_type": "markdown",
      "source": [
        "# Question 8 (30 points)\n",
        "\n",
        "Use the Decision Tree algorithm (with default settings and the correct seed) to build a model on the training set and report the model's accuracy."
      ],
      "metadata": {
        "id": "7GCTkGwOqFP7"
      }
    },
    {
      "cell_type": "code",
      "source": [
        "##### Code block for Question 8\n",
        "from sklearn.tree import DecisionTreeClassifier\n",
        "tree = DecisionTreeClassifier(random_state=1234)\n",
        "tree.fit(X_train_dt, y_train_dt)\n",
        "\n",
        "dt_accuracy = tree.score(X_test_dt, y_test_dt)\n",
        "\n",
        "print(\"The accuracy for this perceptron model is = \" ,dt_accuracy)"
      ],
      "metadata": {
        "id": "io8-k2M-prgl",
        "colab": {
          "base_uri": "https://localhost:8080/"
        },
        "outputId": "b4ed8140-4e62-4af2-d521-442f13583b0c"
      },
      "execution_count": 10,
      "outputs": [
        {
          "output_type": "stream",
          "name": "stdout",
          "text": [
            "The accuracy for this perceptron model is =  0.9365079365079365\n"
          ]
        }
      ]
    },
    {
      "cell_type": "markdown",
      "source": [
        "# Question 9 (20 points)\n",
        "\n",
        "Show the classification report for the built model. In the text cell, following the code block for question 9, descibe what findings can be infered from the classification report. Mention at least 3 observations."
      ],
      "metadata": {
        "id": "3VYbQk6ZqsjC"
      }
    },
    {
      "cell_type": "code",
      "source": [
        "##### Code block for Question 9\n",
        "y_pred_dt = tree.predict(X_test_dt)\n",
        "\n",
        "dt_precision = metrics.precision_score(y_test_dt, y_pred_dt, average='macro')\n",
        "\n",
        "dt_recall = metrics.recall_score(y_test_dt, y_pred_dt, average='macro')\n",
        "\n",
        "print(metrics.classification_report(y_test_dt, y_pred_dt))"
      ],
      "metadata": {
        "id": "qRZWpYIBq0aA",
        "colab": {
          "base_uri": "https://localhost:8080/"
        },
        "outputId": "80be5d13-a7de-4a41-af94-1488fd7a5296"
      },
      "execution_count": 11,
      "outputs": [
        {
          "output_type": "stream",
          "name": "stdout",
          "text": [
            "              precision    recall  f1-score   support\n",
            "\n",
            "           0       1.00      0.89      0.94        19\n",
            "           1       0.92      0.92      0.92        26\n",
            "           2       0.90      1.00      0.95        18\n",
            "\n",
            "    accuracy                           0.94        63\n",
            "   macro avg       0.94      0.94      0.94        63\n",
            "weighted avg       0.94      0.94      0.94        63\n",
            "\n"
          ]
        }
      ]
    },
    {
      "cell_type": "markdown",
      "source": [
        "1. Out of all the wines the model predicted to be in class_0, 100% of the time it was right, for class_1 it was right 92% of the time, and for class_2 it was right 90% of the time.\n",
        "2. Out of all the wines that were in class_0, model predicted this outcome 89% of the time, for class_1 it was predicted 92% of the time, and for clas_2 it was predicted 100% of the time.\n",
        "3. This model suits well for all classes. All the classes have a f1-score very close to 1 which makes this a good model.\n"
      ],
      "metadata": {
        "id": "HeH9Cdnzq1QF"
      }
    },
    {
      "cell_type": "markdown",
      "source": [
        "# Question 10 (30 points)\n",
        "\n",
        "Use the trained model to make predictions on the test set. Output AND plot the confusion matrix from the model's predictions. \n",
        "\n",
        "In the second code cell, plot side by side: On the left side, the test set and its labels (using features Alcohol as the X axis and Alcalinity of Ash as the Y axis) with each point colored depending its class label. On the right side, the actual predictions (use the same Alcohol as the X axis and Alcalinity of Ash as the Y axis) with each point colored depending on its class label."
      ],
      "metadata": {
        "id": "CIqq_7v0rIhB"
      }
    },
    {
      "cell_type": "code",
      "source": [
        "##### Code block for Question 10 - part 1\n",
        "cnf_matrix = metrics.confusion_matrix(y_test_dt, y_pred_dt)\n",
        "print(cnf_matrix)"
      ],
      "metadata": {
        "id": "GFT8khVUrQ_2",
        "colab": {
          "base_uri": "https://localhost:8080/"
        },
        "outputId": "1b90e363-dca8-41d5-866b-0f9099e822b4"
      },
      "execution_count": 12,
      "outputs": [
        {
          "output_type": "stream",
          "name": "stdout",
          "text": [
            "[[17  2  0]\n",
            " [ 0 24  2]\n",
            " [ 0  0 18]]\n"
          ]
        }
      ]
    },
    {
      "cell_type": "code",
      "source": [
        "##### Code block for Question 10 - part 2\n",
        "fig, ax = plt.subplots(1, 2, figsize=(10,5))\n",
        "fig.tight_layout()\n",
        "fig.suptitle('Decision Tree', fontsize=20, y=1.1)\n",
        "\n",
        "scatter1 = ax[0].scatter(X_test_dt['alcohol'], X_test_dt['alcalinity_of_ash'], c=y_test_dt, cmap='rainbow')\n",
        "ax[0].set_title('Test Set', fontsize=16)\n",
        "ax[0].set_xlabel('Alcohol')\n",
        "ax[0].set_ylabel('Alcalinity of Ash')\n",
        "ax[0].scatter([], [], c=['purple'], label='class_0')\n",
        "ax[0].scatter([], [], c=['cyan'], label='class_1')\n",
        "ax[0].scatter([], [], c=['red'], label='class_2')\n",
        "ax[0].legend()\n",
        "\n",
        "scatter2 = ax[1].scatter(X_test_dt['alcohol'], X_test_dt['alcalinity_of_ash'], c=y_pred_dt, cmap='rainbow')\n",
        "ax[1].set_title('Prediction', fontsize=16)\n",
        "ax[1].set_xlabel('Alcohol')\n",
        "ax[1].set_ylabel('Alcalinity of Ash')\n",
        "ax[1].scatter([], [], c=['purple'], label='class_0')\n",
        "ax[1].scatter([], [], c=['cyan'], label='class_1')\n",
        "ax[1].scatter([], [], c=['red'], label='class_2')\n",
        "ax[1].legend()"
      ],
      "metadata": {
        "id": "Zoh1vJDArQ_3",
        "colab": {
          "base_uri": "https://localhost:8080/",
          "height": 449
        },
        "outputId": "8c82bb6a-a8ad-4acd-beef-c254b86888fd"
      },
      "execution_count": 13,
      "outputs": [
        {
          "output_type": "execute_result",
          "data": {
            "text/plain": [
              "<matplotlib.legend.Legend at 0x7ff4b9e0f8b0>"
            ]
          },
          "metadata": {},
          "execution_count": 13
        },
        {
          "output_type": "display_data",
          "data": {
            "text/plain": [
              "<Figure size 720x360 with 2 Axes>"
            ],
            "image/png": "[encoded data removed]"
          },
          "metadata": {}
        }
      ]
    },
    {
      "cell_type": "markdown",
      "source": [
        "# Question 11 (30 points) \n",
        "\n",
        "a) Do the plot right plot on Question 10 - part 2 match the confusion matrix of part 1?\n",
        "\n",
        "b) Any interesting observations from the predictions and the model performance? (write at least 2)\n",
        "\n",
        "c) Plot the figure from question 10 - part 2 using the `visualize_classifier` function given during the class example from 2/20/2023."
      ],
      "metadata": {
        "id": "MoOX9SsqrY1m"
      }
    },
    {
      "cell_type": "markdown",
      "source": [
        "The plot on the right does match the confusion matrix that was generated."
      ],
      "metadata": {
        "id": "qDsw0eoyrY1n"
      }
    },
    {
      "cell_type": "markdown",
      "source": [
        "1. If we look at the number of purple points which is class_0 that were predicted right it is 17, which is exactly equal to the value of TP. There were 19 purple points at first that is on the left side out of which 17 were predicted as TP. Remaining 2 are FP which is also on the confusion matrix (sum of other two rows).\n",
        "2. If we look at the number of green points which is class_1 that were predicted right it is 24, which is exactly equal to the value of TP. There were 26 purple points at first that is on the left side out of which 24 were predicted as TP. Remaining 2 are FP which is also on the confusion matrix.\n",
        "3. If we look at the number of red points which is class_2 that were predicted right it is 18, which is exactly equal to the value of TP. There were 18 purple points at first that is on the left side out of which all of them were predicted as TP."
      ],
      "metadata": {
        "id": "5CBnH3bQrY1o"
      }
    },
    {
      "cell_type": "code",
      "source": [
        "# ##### Code block for Question 11 - part c\n",
        "\n",
        "# X_new = wine.data[0, 3]\n",
        "\n",
        "# def visualize_classifier(model, X, y, ax=None, cmap='rainbow'):\n",
        "#     ax = ax or plt.gca()\n",
        "    \n",
        "#     # Plot the training points\n",
        "#     ax.scatter(X_test_dt['alcohol'], X_test_dt['alcalinity_of_ash'], c=y_pred_dt, s=30, cmap=cmap,\n",
        "#                clim=(y.min(), y.max()), zorder=3)\n",
        "#     ax.axis('tight')\n",
        "#     ax.axis('off')\n",
        "#     xlim = ax.get_xlim()\n",
        "#     ylim = ax.get_ylim()\n",
        "    \n",
        "#     # fit the estimator\n",
        "#     model.fit(X, y)\n",
        "#     xx, yy = np.meshgrid(np.linspace(*xlim, num=200), np.linspace(*ylim, num=200))\n",
        "#     Z = model.predict(np.c_[xx.ravel(), yy.ravel()]).reshape(xx.shape)\n",
        "\n",
        "#     # Create a color plot with the results\n",
        "#     n_classes = len(np.unique(y))\n",
        "#     contours = ax.contourf(xx, yy, Z, alpha=0.3, levels=np.arange(n_classes + 1) - 0.5, cmap=cmap, zorder=1)\n",
        "\n",
        "#     ax.set(xlim=xlim, ylim=ylim)\n",
        "\n",
        "# visualize_classifier(DecisionTreeClassifier(), X_new, y_dt)"
      ],
      "metadata": {
        "id": "JU01ze5mryO5"
      },
      "execution_count": 14,
      "outputs": []
    },
    {
      "cell_type": "markdown",
      "source": [
        "# Question 12 (10 points)\n",
        "\n",
        "Reload the Wine dataset and split the dataset into a testing and a training set using 65% of the data for training and the rest for testing. Use the built-in sklearn functionality for this, any other way will not be graded."
      ],
      "metadata": {
        "id": "VyZzK3XpsBgd"
      }
    },
    {
      "cell_type": "code",
      "source": [
        "##### Code block for Question 12\n",
        "wine = datasets.load_wine()\n",
        "\n",
        "#Converting dataset into pandas dataFrame\n",
        "df3 = pd.DataFrame(data=wine.data, columns=wine.feature_names)\n",
        "df3['target'] = wine.target\n",
        "\n",
        "#Splitting the data into training and testing set\n",
        "X_lr = df3[df3.columns[:-1]]\n",
        "y_lr = df3[df3.columns[-1]]\n",
        "X_train_lr, X_test_lr, y_train_lr, y_test_lr = train_test_split(X_lr, y_lr, test_size=0.35, random_state = 1234)"
      ],
      "metadata": {
        "id": "hGTZs31MsBge"
      },
      "execution_count": 15,
      "outputs": []
    },
    {
      "cell_type": "markdown",
      "source": [
        "# Question 13 (30 points)\n",
        "\n",
        "Use the Logistic Regression (with as this is a multi-class problem, use the **One Vs Rest algorithm** we must use `liblinear` solver and the correct seed) to build a model on the training set and report the model's accuracy."
      ],
      "metadata": {
        "id": "FTWIgD0rsBge"
      }
    },
    {
      "cell_type": "code",
      "source": [
        "##### Code block for Question 13\n",
        "from sklearn.linear_model import LogisticRegression\n",
        "\n",
        "logreg = LogisticRegression(solver='liblinear', random_state = 1234)\n",
        "log = logreg.fit(X_train_lr,y_train_lr)\n",
        "\n",
        "# Accuracy for logistic regression\n",
        "lr_accuracy = log.score(X_test_lr, y_test_lr)\n",
        "print(\"The accuracy for this logistic regression is = \" ,log.score(X_test_lr, y_test_lr))"
      ],
      "metadata": {
        "id": "7uu_vP4OsBgf",
        "colab": {
          "base_uri": "https://localhost:8080/"
        },
        "outputId": "b16415d7-1d9c-4e7e-f8d6-1d2e229b5815"
      },
      "execution_count": 16,
      "outputs": [
        {
          "output_type": "stream",
          "name": "stdout",
          "text": [
            "The accuracy for this logistic regression is =  0.9523809523809523\n"
          ]
        }
      ]
    },
    {
      "cell_type": "markdown",
      "source": [
        "# Question 14 (20 points)\n",
        "\n",
        "Show the classification report for the built model. In the text cell, following the code block for question 14, descibe what findings can be infered from the classification report. Mention at least 3 observations."
      ],
      "metadata": {
        "id": "nU8SRq6TsBgf"
      }
    },
    {
      "cell_type": "code",
      "source": [
        "##### Code block for Question 14\n",
        "y_pred_lr = log.predict(X_test_lr)\n",
        "\n",
        "lr_precision = metrics.precision_score(y_test_lr, y_pred_lr, average='macro')\n",
        "\n",
        "lr_recall = metrics.recall_score(y_test_lr, y_pred_lr, average='macro')\n",
        "\n",
        "print(metrics.classification_report(y_test_lr, y_pred_lr))"
      ],
      "metadata": {
        "id": "pXIQ7hO6sBgf",
        "colab": {
          "base_uri": "https://localhost:8080/"
        },
        "outputId": "01b97702-b220-4733-f21c-bf793dd428b1"
      },
      "execution_count": 17,
      "outputs": [
        {
          "output_type": "stream",
          "name": "stdout",
          "text": [
            "              precision    recall  f1-score   support\n",
            "\n",
            "           0       1.00      0.95      0.97        19\n",
            "           1       0.96      0.92      0.94        26\n",
            "           2       0.90      1.00      0.95        18\n",
            "\n",
            "    accuracy                           0.95        63\n",
            "   macro avg       0.95      0.96      0.95        63\n",
            "weighted avg       0.95      0.95      0.95        63\n",
            "\n"
          ]
        }
      ]
    },
    {
      "cell_type": "markdown",
      "source": [
        "1. Out of all the wines the model predicted to be in class_0, 100% of the time it was right, for class_1 it was right 96% of the time, and for class_2 it was right 90% of the time.\n",
        "2. Out of all the wines that were in class_0, model predicted this outcome 95% of the time, for class_1 it was predicted 92% of the time, and for clas_2 it was predicted 100% of the time.\n",
        "3. This model suits well for all classes. All the classes have a f1-score very close to 1 which makes this a good model."
      ],
      "metadata": {
        "id": "LVep3OJ1sBgf"
      }
    },
    {
      "cell_type": "markdown",
      "source": [
        "# Question 15 (30 points)\n",
        "\n",
        "Use the trained model to make predictions on the test set. Output AND plot the confusion matrix from the model's predictions. \n",
        "\n",
        "In the second code cell, plot side by side: On the left side, the test set and its labels (using features Alcohol as the X axis and Alcalinity of Ash as the Y axis) with each point colored depending its class label. On the right side, the actual predictions (use the same Alcohol as the X axis and Alcalinity of Ash as the Y axis) with each point colored depending on its class label."
      ],
      "metadata": {
        "id": "1DQxkgAbsBgg"
      }
    },
    {
      "cell_type": "code",
      "source": [
        "##### Code block for Question 15 - part 1\n",
        "cnf_matrix = metrics.confusion_matrix(y_test_lr, y_pred_lr)\n",
        "print(cnf_matrix)"
      ],
      "metadata": {
        "id": "l9A4AifNsBgg",
        "colab": {
          "base_uri": "https://localhost:8080/"
        },
        "outputId": "22d8b843-9351-4b8e-cd66-eea869d03b1c"
      },
      "execution_count": 18,
      "outputs": [
        {
          "output_type": "stream",
          "name": "stdout",
          "text": [
            "[[18  1  0]\n",
            " [ 0 24  2]\n",
            " [ 0  0 18]]\n"
          ]
        }
      ]
    },
    {
      "cell_type": "code",
      "source": [
        "##### Code block for Question 15 - part 2\n",
        "fig, ax = plt.subplots(1, 2, figsize=(10,5))\n",
        "fig.tight_layout()\n",
        "fig.suptitle('Logistic Regression', fontsize=20, y=1.1)\n",
        "\n",
        "ax[0].scatter(X_test_lr['alcohol'], X_test_lr['alcalinity_of_ash'], c=y_test_lr, cmap='rainbow')\n",
        "ax[0].set_title('Test Set', fontsize=16)\n",
        "ax[0].set_xlabel('Alcohol')\n",
        "ax[0].set_ylabel('Alcalinity of Ash')\n",
        "ax[0].scatter([], [], c=['purple'], label='class_0')\n",
        "ax[0].scatter([], [], c=['cyan'], label='class_1')\n",
        "ax[0].scatter([], [], c=['red'], label='class_2')\n",
        "ax[0].legend()\n",
        "\n",
        "ax[1].scatter(X_test_lr['alcohol'], X_test_lr['alcalinity_of_ash'], c=y_pred_lr, cmap='rainbow')\n",
        "ax[1].set_title('Prediction', fontsize=16)\n",
        "ax[1].set_xlabel('Alcohol')\n",
        "ax[1].set_ylabel('Alcalinity of Ash')\n",
        "ax[1].scatter([], [], c=['purple'], label='class_0')\n",
        "ax[1].scatter([], [], c=['cyan'], label='class_1')\n",
        "ax[1].scatter([], [], c=['red'], label='class_2')\n",
        "ax[1].legend()"
      ],
      "metadata": {
        "id": "wF7X9vnGsBgg",
        "colab": {
          "base_uri": "https://localhost:8080/",
          "height": 449
        },
        "outputId": "72855774-36c3-43da-f2fd-40b6315115ad"
      },
      "execution_count": 19,
      "outputs": [
        {
          "output_type": "execute_result",
          "data": {
            "text/plain": [
              "<matplotlib.legend.Legend at 0x7ff4b9d04820>"
            ]
          },
          "metadata": {},
          "execution_count": 19
        },
        {
          "output_type": "display_data",
          "data": {
            "text/plain": [
              "<Figure size 720x360 with 2 Axes>"
            ],
            "image/png": "[encoded data removed]"
          },
          "metadata": {}
        }
      ]
    },
    {
      "cell_type": "markdown",
      "source": [
        "# Question 16 (20 points) \n",
        "\n",
        "a) Do the plot right plot on Question 15 - part 2 match the confusion matrix of part 1?\n",
        "\n",
        "b) Any interesting observations from the predictions and the model performance? (write at least 2)"
      ],
      "metadata": {
        "id": "7Fh0OKRzsBgh"
      }
    },
    {
      "cell_type": "markdown",
      "source": [
        "The plot on the right does match the confusion matrix that was generated."
      ],
      "metadata": {
        "id": "67skrMZwsBgh"
      }
    },
    {
      "cell_type": "markdown",
      "source": [
        "1. If we look at the number of purple points which is class_0 that were predicted right it is 18, which is exactly equal to the value of TP. There were 19 purple points at first that is on the left side out of which 17 were predicted as TP. Remaining 1 is FP which is also on the confusion matrix (sum of other two rows).\n",
        "2. If we look at the number of green points which is class_1 that were predicted right it is 24, which is exactly equal to the value of on confusion matrix. There were 26 purple points at first that is on the left side out of which 24 were predicted as true. Remaining 2 are FP which is also on the confusion matrix.\n",
        "3. If we look at the number of red points which is class_2 that were predicted right it is 18, which is exactly equal to the value of on the confusion matrix. There were 18 purple points at first that is on the left side out of which all of them were predicted right."
      ],
      "metadata": {
        "id": "bWus1xG9sBgh"
      }
    },
    {
      "cell_type": "markdown",
      "source": [
        "# Question 17 (10 points)\n",
        "\n",
        "Create AND display dataframe containing in each row the accruacy, precision, recall for each of the models built. \n",
        "\n",
        "In the textual answer cell, discuss which one is the best performing model and why?"
      ],
      "metadata": {
        "id": "W888Kt2Btame"
      }
    },
    {
      "cell_type": "code",
      "source": [
        "##### Code block for Question 17\n",
        "data = {'Accuracy': [perc_accuracy, dt_accuracy, lr_accuracy],\n",
        "        'Precision': [perc_precision, dt_precision, lr_precision],\n",
        "        'Recall' : [perc_recall, dt_recall, lr_recall]}\n",
        "  \n",
        "# Create the pandas DataFrame\n",
        "df = pd.DataFrame(data, index=['Perceptron', 'Decision Tree', 'Logistic Regression'])\n",
        "  \n",
        "# print dataframe.\n",
        "df = df.round(2)\n",
        "df"
      ],
      "metadata": {
        "id": "WdrGJIy3tZlc",
        "colab": {
          "base_uri": "https://localhost:8080/",
          "height": 143
        },
        "outputId": "5e0a3e24-0452-45af-ec37-85eae73ce51f"
      },
      "execution_count": 20,
      "outputs": [
        {
          "output_type": "execute_result",
          "data": {
            "text/plain": [
              "                     Accuracy  Precision  Recall\n",
              "Perceptron               0.67       0.64    1.00\n",
              "Decision Tree            0.94       0.94    0.94\n",
              "Logistic Regression      0.95       0.95    0.96"
            ],
            "text/html": [
              "\n",
              "  <div id=\"df-7f9dd2db-82c9-4f5e-be9c-829c525b5268\">\n",
              "    <div class=\"colab-df-container\">\n",
              "      <div>\n",
              "<style scoped>\n",
              "    .dataframe tbody tr th:only-of-type {\n",
              "        vertical-align: middle;\n",
              "    }\n",
              "\n",
              "    .dataframe tbody tr th {\n",
              "        vertical-align: top;\n",
              "    }\n",
              "\n",
              "    .dataframe thead th {\n",
              "        text-align: right;\n",
              "    }\n",
              "</style>\n",
              "<table border=\"1\" class=\"dataframe\">\n",
              "  <thead>\n",
              "    <tr style=\"text-align: right;\">\n",
              "      <th></th>\n",
              "      <th>Accuracy</th>\n",
              "      <th>Precision</th>\n",
              "      <th>Recall</th>\n",
              "    </tr>\n",
              "  </thead>\n",
              "  <tbody>\n",
              "    <tr>\n",
              "      <th>Perceptron</th>\n",
              "      <td>0.67</td>\n",
              "      <td>0.64</td>\n",
              "      <td>1.00</td>\n",
              "    </tr>\n",
              "    <tr>\n",
              "      <th>Decision Tree</th>\n",
              "      <td>0.94</td>\n",
              "      <td>0.94</td>\n",
              "      <td>0.94</td>\n",
              "    </tr>\n",
              "    <tr>\n",
              "      <th>Logistic Regression</th>\n",
              "      <td>0.95</td>\n",
              "      <td>0.95</td>\n",
              "      <td>0.96</td>\n",
              "    </tr>\n",
              "  </tbody>\n",
              "</table>\n",
              "</div>\n",
              "      <button class=\"colab-df-convert\" onclick=\"convertToInteractive('df-7f9dd2db-82c9-4f5e-be9c-829c525b5268')\"\n",
              "              title=\"Convert this dataframe to an interactive table.\"\n",
              "              style=\"display:none;\">\n",
              "        \n",
              "  <svg xmlns=\"http://www.w3.org/2000/svg\" height=\"24px\"viewBox=\"0 0 24 24\"\n",
              "       width=\"24px\">\n",
              "    <path d=\"M0 0h24v24H0V0z\" fill=\"none\"/>\n",
              "    <path d=\"M18.56 5.44l.94 2.06.94-2.06 2.06-.94-2.06-.94-.94-2.06-.94 2.06-2.06.94zm-11 1L8.5 8.5l.94-2.06 2.06-.94-2.06-.94L8.5 2.5l-.94 2.06-2.06.94zm10 10l.94 2.06.94-2.06 2.06-.94-2.06-.94-.94-2.06-.94 2.06-2.06.94z\"/><path d=\"M17.41 7.96l-1.37-1.37c-.4-.4-.92-.59-1.43-.59-.52 0-1.04.2-1.43.59L10.3 9.45l-7.72 7.72c-.78.78-.78 2.05 0 2.83L4 21.41c.39.39.9.59 1.41.59.51 0 1.02-.2 1.41-.59l7.78-7.78 2.81-2.81c.8-.78.8-2.07 0-2.86zM5.41 20L4 18.59l7.72-7.72 1.47 1.35L5.41 20z\"/>\n",
              "  </svg>\n",
              "      </button>\n",
              "      \n",
              "  <style>\n",
              "    .colab-df-container {\n",
              "      display:flex;\n",
              "      flex-wrap:wrap;\n",
              "      gap: 12px;\n",
              "    }\n",
              "\n",
              "    .colab-df-convert {\n",
              "      background-color: #E8F0FE;\n",
              "      border: none;\n",
              "      border-radius: 50%;\n",
              "      cursor: pointer;\n",
              "      display: none;\n",
              "      fill: #1967D2;\n",
              "      height: 32px;\n",
              "      padding: 0 0 0 0;\n",
              "      width: 32px;\n",
              "    }\n",
              "\n",
              "    .colab-df-convert:hover {\n",
              "      background-color: #E2EBFA;\n",
              "      box-shadow: 0px 1px 2px rgba(60, 64, 67, 0.3), 0px 1px 3px 1px rgba(60, 64, 67, 0.15);\n",
              "      fill: #174EA6;\n",
              "    }\n",
              "\n",
              "    [theme=dark] .colab-df-convert {\n",
              "      background-color: #3B4455;\n",
              "      fill: #D2E3FC;\n",
              "    }\n",
              "\n",
              "    [theme=dark] .colab-df-convert:hover {\n",
              "      background-color: #434B5C;\n",
              "      box-shadow: 0px 1px 3px 1px rgba(0, 0, 0, 0.15);\n",
              "      filter: drop-shadow(0px 1px 2px rgba(0, 0, 0, 0.3));\n",
              "      fill: #FFFFFF;\n",
              "    }\n",
              "  </style>\n",
              "\n",
              "      <script>\n",
              "        const buttonEl =\n",
              "          document.querySelector('#df-7f9dd2db-82c9-4f5e-be9c-829c525b5268 button.colab-df-convert');\n",
              "        buttonEl.style.display =\n",
              "          google.colab.kernel.accessAllowed ? 'block' : 'none';\n",
              "\n",
              "        async function convertToInteractive(key) {\n",
              "          const element = document.querySelector('#df-7f9dd2db-82c9-4f5e-be9c-829c525b5268');\n",
              "          const dataTable =\n",
              "            await google.colab.kernel.invokeFunction('convertToInteractive',\n",
              "                                                     [key], {});\n",
              "          if (!dataTable) return;\n",
              "\n",
              "          const docLinkHtml = 'Like what you see? Visit the ' +\n",
              "            '<a target=\"_blank\" href=https://colab.research.google.com/notebooks/data_table.ipynb>data table notebook</a>'\n",
              "            + ' to learn more about interactive tables.';\n",
              "          element.innerHTML = '';\n",
              "          dataTable['output_type'] = 'display_data';\n",
              "          await google.colab.output.renderOutput(dataTable, element);\n",
              "          const docLink = document.createElement('div');\n",
              "          docLink.innerHTML = docLinkHtml;\n",
              "          element.appendChild(docLink);\n",
              "        }\n",
              "      </script>\n",
              "    </div>\n",
              "  </div>\n",
              "  "
            ]
          },
          "metadata": {},
          "execution_count": 20
        }
      ]
    },
    {
      "cell_type": "markdown",
      "source": [
        "It is very clear from the table that the perceptron alogorithm is a very bad choice because of the low accuracy and precision. Both the Decision Tree and Logistic Regression have high accuracy and precision but Logistic regression used One-vs-many alogorithm. Due to which we cannot fully trust it. The model ws trained with one class against other two classes. So the best model fot this data would be the Decision Tree.\n",
        "\n"
      ],
      "metadata": {
        "id": "VEnK8F_Lt5V8"
      }
    },
    {
      "cell_type": "markdown",
      "source": [
        "# Graduate Student Question: (50 points)\n",
        "\n",
        "Modify the `visualize_classifier` function provided during the 2/20/2023 class to be able to work in 3 dimensions (currently only works in two dimensions). Take the Decision Tree classifier model from Question 8 and plot the separation of the classes using the following axes: (Alcohol as the X axis and Alcalinity of Ash as the Y axis, and Ash as the Z axis).\n"
      ],
      "metadata": {
        "id": "ziqaH6VEuBJK"
      }
    },
    {
      "cell_type": "code",
      "source": [
        "##### Code block for Graduate Student Question"
      ],
      "metadata": {
        "id": "a17SE-ZcuALz"
      },
      "execution_count": 21,
      "outputs": []
    }
  ]
}